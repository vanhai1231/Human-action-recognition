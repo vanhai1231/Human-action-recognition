{
 "cells": [
  {
   "cell_type": "code",
   "execution_count": 1,
   "id": "dd9a97ca",
   "metadata": {},
   "outputs": [],
   "source": [
    "import os\n",
    "import numpy as np\n",
    "import cv2\n",
    "import mediapipe as mp\n",
    "import time"
   ]
  },
  {
   "cell_type": "code",
   "execution_count": 4,
   "id": "5e48597a",
   "metadata": {},
   "outputs": [],
   "source": [
    "DATA_PATH = os.path.join(\"DATA_TEST\") \n",
    "actions = np.array([\"HANDCLAPPING\"])\n",
    "no_sequences = 1775\n",
    "sequence_length = 30"
   ]
  },
  {
   "cell_type": "code",
   "execution_count": 5,
   "id": "2d73af0e",
   "metadata": {},
   "outputs": [],
   "source": [
    "for action in actions: \n",
    "    for sequence in range(no_sequences):\n",
    "        try: \n",
    "            os.makedirs(os.path.join(DATA_PATH, action, str(sequence)))\n",
    "        except:\n",
    "            pass"
   ]
  },
  {
   "cell_type": "code",
   "execution_count": 6,
   "id": "482fe689",
   "metadata": {},
   "outputs": [],
   "source": [
    "mp_holistic = mp.solutions.holistic \n",
    "mp_drawing = mp.solutions.drawing_utils \n",
    "pTime = 0\n",
    "cTime = 0"
   ]
  },
  {
   "cell_type": "code",
   "execution_count": 7,
   "id": "cce8df31",
   "metadata": {},
   "outputs": [],
   "source": [
    "def mediapipe_detection(image, model):\n",
    "    image = cv2.cvtColor(image, cv2.COLOR_BGR2RGB) \n",
    "    image.flags.writeable = False                 \n",
    "    results = model.process(image)                 \n",
    "    image.flags.writeable = True                   \n",
    "    image = cv2.cvtColor(image, cv2.COLOR_RGB2BGR)\n",
    "    image = cv2.resize(image, (700,image.shape[0]))\n",
    "    return image, results\n",
    "def draw_styled_landmarks(image, results):\n",
    "    mp_drawing.draw_landmarks(image, results.pose_landmarks, mp_holistic.POSE_CONNECTIONS,\n",
    "                             mp_drawing.DrawingSpec(color=(0,225,10), thickness=2, circle_radius=2), \n",
    "                             mp_drawing.DrawingSpec(color=(0,34,121), thickness=2, circle_radius=2)\n",
    "                             ) \n",
    "def extract_keypoints(results):\n",
    "    pose = np.array([[res.x, res.y, res.z, res.visibility] for res in results.pose_landmarks.landmark]).flatten() if results.pose_landmarks else np.zeros(33*4)\n",
    "    return np.concatenate([pose])"
   ]
  },
  {
   "cell_type": "code",
   "execution_count": 8,
   "id": "0cdb4942",
   "metadata": {},
   "outputs": [],
   "source": [
    "path = \"C:/Users/Nguyễn Hoài Nam/OneDrive/CDIO4/stand_video\"\n",
    "video_list = os.listdir(path)\n",
    "for video in video_list:\n",
    "    cd = os.path.join(path +\"/\"+ video)\n",
    "    cap = cv2.VideoCapture(cd)\n",
    "    \n",
    "    with mp_holistic.Holistic(min_detection_confidence=0.5, min_tracking_confidence=0.5) as holistic:\n",
    "        for action in actions:\n",
    "            for sequence in range(1270,no_sequences):\n",
    "                for frame_num in range(sequence_length):\n",
    "                        ref,frame = cap.read()\n",
    "                        try:\n",
    "                            image, results = mediapipe_detection(frame, holistic)\n",
    "                        except:\n",
    "                            break\n",
    "                            \n",
    "                        draw_styled_landmarks(image, results)\n",
    "                        cTime = time.time()\n",
    "                        fps = 1 / (cTime - pTime)\n",
    "                        pTime = cTime\n",
    "                        cv2.putText(image,\"FPS:\" +str(int(fps)),(10,100), cv2.FONT_HERSHEY_PLAIN, 2,(255,0,190),2,cv2.LINE_AA)\n",
    "\n",
    "                        if frame_num == 0: \n",
    "                            cv2.putText(image, 'Collecting frames for {} Video Number {}'.format(action, sequence), (15,12), \n",
    "                                              cv2.FONT_HERSHEY_SIMPLEX, 0.5, (0, 0, 255), 1, cv2.LINE_AA)\n",
    "                            cv2.imshow('OpenCV Feed', image)\n",
    "                        else: \n",
    "                            cv2.putText(image, 'Collecting frames for {} Video Number {}'.format(action, sequence), (15,12), \n",
    "                                            cv2.FONT_HERSHEY_SIMPLEX, 0.5, (0, 0, 255), 1, cv2.LINE_AA)\n",
    "                            cv2.imshow('OpenCV Feed', image)\n",
    "\n",
    "                        keypoints = extract_keypoints(results)\n",
    "                        npy_path = os.path.join(DATA_PATH, action, str(sequence), str(frame_num))\n",
    "                        np.save(npy_path, keypoints)\n",
    "                        if cv2.waitKey(1) & 0xFF == ord(\"q\"):\n",
    "                            break\n",
    "cap.release()\n",
    "cv2.destroyAllWindows()\n",
    "cap.release()\n",
    "cv2.destroyAllWindows()"
   ]
  },
  {
   "cell_type": "markdown",
   "id": "e30f846f",
   "metadata": {},
   "source": [
    "## Get Labels"
   ]
  },
  {
   "cell_type": "code",
   "execution_count": 2,
   "id": "c0966c6d",
   "metadata": {},
   "outputs": [],
   "source": [
    "from sklearn.model_selection import train_test_split\n",
    "from tensorflow.keras.utils import to_categorical\n",
    "import tensorflow as tf"
   ]
  },
  {
   "cell_type": "code",
   "execution_count": 5,
   "id": "0a109293",
   "metadata": {},
   "outputs": [],
   "source": [
    "DATA_PATH = os.path.join('data_npy') \n",
    "actions = np.array([\"HANDCLAPPING\",\"RUNNING\",\"WALKING\",\"STANDING\"])\n",
    "no_sequences = 1776\n",
    "sequence_length = 30"
   ]
  },
  {
   "cell_type": "code",
   "execution_count": 6,
   "id": "a391b6d5",
   "metadata": {},
   "outputs": [
    {
     "data": {
      "text/plain": [
       "{'HANDCLAPPING': 0, 'RUNNING': 1, 'WALKING': 2, 'STANDING': 3}"
      ]
     },
     "execution_count": 6,
     "metadata": {},
     "output_type": "execute_result"
    }
   ],
   "source": [
    "label_map = {label:num for num,label in enumerate(actions)}\n",
    "label_map"
   ]
  },
  {
   "cell_type": "code",
   "execution_count": 15,
   "id": "597f1c5f",
   "metadata": {},
   "outputs": [],
   "source": [
    "def load_data(actions,no_sequences,sequence_length):\n",
    "    sequences1,labels = [],[]\n",
    "    for action in actions:\n",
    "        for sequence in range(no_sequences):\n",
    "            window = []\n",
    "            for frame_num in range(sequence_length):\n",
    "                res = np.load(os.path.join(DATA_PATH,action,str(sequence),\"{}.npy\".format(frame_num)))\n",
    "                window.append(res)\n",
    "            sequences1.append(window)\n",
    "            labels.append(label_map[action])\n",
    "    return sequences1,labels"
   ]
  },
  {
   "cell_type": "code",
   "execution_count": 7,
   "id": "bce52a4b",
   "metadata": {},
   "outputs": [],
   "source": [
    "# sequences,labels = [],[]\n",
    "# for action in os.listdir(\"xxx/\"):\n",
    "#     fd = os.path.join(\"xxx/\" + action)\n",
    "#     window = []\n",
    "#     for folder in os.listdir(fd):\n",
    "#         fd1 = os.path.join(\"xxx/\" + action +\"/\"+ folder)\n",
    "#         for file in os.listdir(fd1):\n",
    "#             res = np.load(os.path.join(\"xxx/\" + action +\"/\"+ folder + \"/\" + file))\n",
    "#             window.append(res)\n",
    "#         sequences.append(window)\n",
    "#         labels.append(label_map[action])"
   ]
  },
  {
   "cell_type": "code",
   "execution_count": 19,
   "id": "0cb15b1a",
   "metadata": {},
   "outputs": [
    {
     "name": "stdout",
     "output_type": "stream",
     "text": [
      "Wall time: 40min 17s\n"
     ]
    }
   ],
   "source": [
    "%time sequences,labels = load_data(actions,no_sequences,sequence_length)"
   ]
  },
  {
   "cell_type": "code",
   "execution_count": 25,
   "id": "b7156747",
   "metadata": {},
   "outputs": [
    {
     "data": {
      "text/plain": [
       "(7104, 30, 132)"
      ]
     },
     "execution_count": 25,
     "metadata": {},
     "output_type": "execute_result"
    }
   ],
   "source": [
    "X = np.array(sequences)\n",
    "X.shape"
   ]
  },
  {
   "cell_type": "code",
   "execution_count": 26,
   "id": "92f31566",
   "metadata": {},
   "outputs": [
    {
     "data": {
      "text/plain": [
       "array([[1, 0, 0, 0],\n",
       "       [1, 0, 0, 0],\n",
       "       [1, 0, 0, 0],\n",
       "       ...,\n",
       "       [0, 0, 0, 1],\n",
       "       [0, 0, 0, 1],\n",
       "       [0, 0, 0, 1]])"
      ]
     },
     "execution_count": 26,
     "metadata": {},
     "output_type": "execute_result"
    }
   ],
   "source": [
    "y = to_categorical(labels).astype(int)\n",
    "y"
   ]
  },
  {
   "cell_type": "code",
   "execution_count": 27,
   "id": "cf0aeaa0",
   "metadata": {},
   "outputs": [],
   "source": [
    "with open('X1.npy', 'wb') as f:\n",
    "    np.save(f, X)\n",
    "with open('y1.npy', 'wb') as f:\n",
    "    np.save(f, y)"
   ]
  },
  {
   "cell_type": "code",
   "execution_count": null,
   "id": "61b7bf5b",
   "metadata": {},
   "outputs": [],
   "source": []
  }
 ],
 "metadata": {
  "kernelspec": {
   "display_name": "Python 3",
   "language": "python",
   "name": "python3"
  },
  "language_info": {
   "codemirror_mode": {
    "name": "ipython",
    "version": 3
   },
   "file_extension": ".py",
   "mimetype": "text/x-python",
   "name": "python",
   "nbconvert_exporter": "python",
   "pygments_lexer": "ipython3",
   "version": "3.8.8"
  }
 },
 "nbformat": 4,
 "nbformat_minor": 5
}
